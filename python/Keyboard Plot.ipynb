{
 "cells": [
  {
   "cell_type": "code",
   "execution_count": 1,
   "metadata": {
    "collapsed": true
   },
   "outputs": [],
   "source": [
    "# https://realpython.com/python-matplotlib-guide/\n",
    "\n",
    "%matplotlib inline\n",
    "\n",
    "import numpy as np\n",
    "import matplotlib.pyplot as plt\n",
    "import matplotlib.patches as patches\n",
    "\n",
    "np.random.seed(444)"
   ]
  },
  {
   "cell_type": "markdown",
   "metadata": {},
   "source": [
    "### Piano Plot"
   ]
  },
  {
   "cell_type": "code",
   "execution_count": 107,
   "metadata": {
    "collapsed": true
   },
   "outputs": [],
   "source": [
    "white_key_width = 23.5\n",
    "white_key_height = 150\n",
    "black_key_width = 13.7\n",
    "black_key_height = 90\n",
    "\n",
    "num_white_keys = 16"
   ]
  },
  {
   "cell_type": "code",
   "execution_count": 108,
   "metadata": {
    "collapsed": false
   },
   "outputs": [],
   "source": [
    "white_x = [x*white_key_width for x in range(num_white_keys)]\n",
    "white_y = 0\n",
    "\n",
    "black_x = [x + white_key_width - black_key_width/2 for x in white_x]\n",
    "black_y = white_key_height - black_key_height"
   ]
  },
  {
   "cell_type": "code",
   "execution_count": 109,
   "metadata": {
    "collapsed": false
   },
   "outputs": [
    {
     "data": {
      "text/plain": [
       "12"
      ]
     },
     "execution_count": 109,
     "metadata": {},
     "output_type": "execute_result"
    }
   ],
   "source": [
    "remove_inds = [x*7 + 2 for x in range(num_white_keys)] + [x*7 + 6 for x in range(num_white_keys)]\n",
    "\n",
    "remove_inds = [x for x in remove_inds if x < len(black_x)]\n",
    "\n",
    "for i in sorted(remove_inds, reverse=True):\n",
    "    del black_x[i]\n",
    "\n",
    "len(black_x)"
   ]
  },
  {
   "cell_type": "code",
   "execution_count": 110,
   "metadata": {
    "collapsed": false,
    "scrolled": true
   },
   "outputs": [
    {
     "data": {
      "image/png": "[encoded data removed]",
      "text/plain": [
       "<matplotlib.figure.Figure at 0x8187eb8>"
      ]
     },
     "metadata": {},
     "output_type": "display_data"
    }
   ],
   "source": [
    "# https://stackoverflow.com/questions/10550477/how-do-i-set-color-to-rectangle-in-matplotlib\n",
    "\n",
    "fig, ax = plt.subplots(figsize = (6, 8))\n",
    "\n",
    "plt.gca().set_aspect('equal', adjustable='box')\n",
    "\n",
    "plt.ylim(-1, white_key_height + .1)\n",
    "plt.xlim(-1, max(white_x) + white_key_width + 1)\n",
    "\n",
    "for i in range(len(white_x)):\n",
    "    rect = patches.Rectangle((white_x[i], white_y), white_key_width, white_key_height,\n",
    "                             color = \"white\", ls = 'solid', lw = 1, ec = 'black')\n",
    "    ax.add_patch(rect)\n",
    "\n",
    "for i in range(len(black_x)):\n",
    "    rect = patches.Rectangle((black_x[i], black_y), black_key_width, black_key_height,\n",
    "                             color = \"black\")\n",
    "    ax.add_patch(rect)\n",
    "\n",
    "plt.axis('off')\n",
    "\n",
    "plt.show()"
   ]
  },
  {
   "cell_type": "code",
   "execution_count": null,
   "metadata": {
    "collapsed": true
   },
   "outputs": [],
   "source": []
  }
 ],
 "metadata": {
  "anaconda-cloud": {},
  "kernelspec": {
   "display_name": "Python [conda root]",
   "language": "python",
   "name": "conda-root-py"
  },
  "language_info": {
   "codemirror_mode": {
    "name": "ipython",
    "version": 3
   },
   "file_extension": ".py",
   "mimetype": "text/x-python",
   "name": "python",
   "nbconvert_exporter": "python",
   "pygments_lexer": "ipython3",
   "version": "3.5.4"
  }
 },
 "nbformat": 4,
 "nbformat_minor": 1
}
